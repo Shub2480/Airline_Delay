{
 "cells": [
  {
   "cell_type": "code",
   "execution_count": 89,
   "metadata": {},
   "outputs": [],
   "source": [
    "#!pip install xgboost"
   ]
  },
  {
   "cell_type": "code",
   "execution_count": 24,
   "metadata": {
    "execution": {
     "iopub.execute_input": "2023-04-12T09:56:14.354897Z",
     "iopub.status.busy": "2023-04-12T09:56:14.354485Z",
     "iopub.status.idle": "2023-04-12T09:56:14.360837Z",
     "shell.execute_reply": "2023-04-12T09:56:14.359680Z",
     "shell.execute_reply.started": "2023-04-12T09:56:14.354859Z"
    }
   },
   "outputs": [],
   "source": [
    "import pandas as pd\n",
    "import numpy as np\n",
    "import xgboost as xgb\n",
    "from sklearn.ensemble import AdaBoostClassifier,GradientBoostingClassifier,RandomForestClassifier\n",
    "from sklearn.preprocessing import StandardScaler\n",
    "from sklearn.preprocessing import LabelEncoder\n",
    "from sklearn.model_selection import train_test_split\n",
    "#from sklearn.svm import SVC\n",
    "#from sklearn.linear_model import LogisticRegression\n",
    "#from sklearn.neighbors import KNeighborsClassifier\n",
    "from sklearn.utils import resample\n"
   ]
  },
  {
   "cell_type": "code",
   "execution_count": 55,
   "metadata": {
    "execution": {
     "iopub.execute_input": "2023-04-12T09:56:14.868620Z",
     "iopub.status.busy": "2023-04-12T09:56:14.867680Z",
     "iopub.status.idle": "2023-04-12T09:56:15.190571Z",
     "shell.execute_reply": "2023-04-12T09:56:15.189471Z",
     "shell.execute_reply.started": "2023-04-12T09:56:14.868553Z"
    }
   },
   "outputs": [],
   "source": [
    "df=pd.read_csv('airline.csv')"
   ]
  },
  {
   "cell_type": "code",
   "execution_count": 56,
   "metadata": {
    "execution": {
     "iopub.execute_input": "2023-04-12T09:58:29.047378Z",
     "iopub.status.busy": "2023-04-12T09:58:29.046291Z",
     "iopub.status.idle": "2023-04-12T09:58:29.054275Z",
     "shell.execute_reply": "2023-04-12T09:58:29.053190Z",
     "shell.execute_reply.started": "2023-04-12T09:58:29.047316Z"
    }
   },
   "outputs": [
    {
     "data": {
      "text/plain": [
       "(94097, 9)"
      ]
     },
     "execution_count": 56,
     "metadata": {},
     "output_type": "execute_result"
    }
   ],
   "source": [
    "df.shape"
   ]
  },
  {
   "cell_type": "code",
   "execution_count": 57,
   "metadata": {
    "execution": {
     "iopub.execute_input": "2023-04-12T10:08:48.124825Z",
     "iopub.status.busy": "2023-04-12T10:08:48.123887Z",
     "iopub.status.idle": "2023-04-12T10:08:48.134362Z",
     "shell.execute_reply": "2023-04-12T10:08:48.133267Z",
     "shell.execute_reply.started": "2023-04-12T10:08:48.124776Z"
    }
   },
   "outputs": [],
   "source": [
    "df.drop(['Airline','Flight'],axis=1,inplace=True)"
   ]
  },
  {
   "cell_type": "code",
   "execution_count": 58,
   "metadata": {
    "execution": {
     "iopub.execute_input": "2023-04-12T10:08:59.092368Z",
     "iopub.status.busy": "2023-04-12T10:08:59.091680Z",
     "iopub.status.idle": "2023-04-12T10:08:59.113024Z",
     "shell.execute_reply": "2023-04-12T10:08:59.111981Z",
     "shell.execute_reply.started": "2023-04-12T10:08:59.092323Z"
    }
   },
   "outputs": [],
   "source": [
    "df.drop('Unnamed: 0',axis=1,inplace=True)"
   ]
  },
  {
   "cell_type": "code",
   "execution_count": null,
   "metadata": {},
   "outputs": [],
   "source": []
  },
  {
   "cell_type": "code",
   "execution_count": 59,
   "metadata": {},
   "outputs": [],
   "source": [
    "class1=df[df.Class == 1]"
   ]
  },
  {
   "cell_type": "code",
   "execution_count": 60,
   "metadata": {},
   "outputs": [],
   "source": [
    "class0=df[df.Class == 0]"
   ]
  },
  {
   "cell_type": "code",
   "execution_count": 61,
   "metadata": {},
   "outputs": [
    {
     "data": {
      "text/plain": [
       "(65657, 6)"
      ]
     },
     "execution_count": 61,
     "metadata": {},
     "output_type": "execute_result"
    }
   ],
   "source": [
    "class1.shape"
   ]
  },
  {
   "cell_type": "code",
   "execution_count": 62,
   "metadata": {},
   "outputs": [
    {
     "data": {
      "text/plain": [
       "(28440, 6)"
      ]
     },
     "execution_count": 62,
     "metadata": {},
     "output_type": "execute_result"
    }
   ],
   "source": [
    "class0.shape"
   ]
  },
  {
   "cell_type": "code",
   "execution_count": 63,
   "metadata": {},
   "outputs": [],
   "source": [
    "class0=resample(class0,n_samples=len(class1))"
   ]
  },
  {
   "cell_type": "code",
   "execution_count": 64,
   "metadata": {},
   "outputs": [],
   "source": [
    "df=pd.concat([class1,class0],axis=0)"
   ]
  },
  {
   "cell_type": "code",
   "execution_count": null,
   "metadata": {},
   "outputs": [],
   "source": []
  },
  {
   "cell_type": "code",
   "execution_count": 65,
   "metadata": {
    "execution": {
     "iopub.execute_input": "2023-04-12T10:09:04.292335Z",
     "iopub.status.busy": "2023-04-12T10:09:04.291874Z",
     "iopub.status.idle": "2023-04-12T10:09:04.302676Z",
     "shell.execute_reply": "2023-04-12T10:09:04.301578Z",
     "shell.execute_reply.started": "2023-04-12T10:09:04.292284Z"
    }
   },
   "outputs": [],
   "source": [
    "X=df.drop('Class',axis=1)"
   ]
  },
  {
   "cell_type": "code",
   "execution_count": 66,
   "metadata": {
    "execution": {
     "iopub.execute_input": "2023-04-12T10:09:04.305725Z",
     "iopub.status.busy": "2023-04-12T10:09:04.304696Z",
     "iopub.status.idle": "2023-04-12T10:09:04.315839Z",
     "shell.execute_reply": "2023-04-12T10:09:04.314868Z",
     "shell.execute_reply.started": "2023-04-12T10:09:04.305682Z"
    }
   },
   "outputs": [],
   "source": [
    "y=df['Class']"
   ]
  },
  {
   "cell_type": "code",
   "execution_count": 67,
   "metadata": {
    "execution": {
     "iopub.execute_input": "2023-04-12T09:45:59.098542Z",
     "iopub.status.busy": "2023-04-12T09:45:59.097983Z",
     "iopub.status.idle": "2023-04-12T09:45:59.122645Z",
     "shell.execute_reply": "2023-04-12T09:45:59.121426Z",
     "shell.execute_reply.started": "2023-04-12T09:45:59.098495Z"
    }
   },
   "outputs": [
    {
     "data": {
      "text/plain": [
       "1    65657\n",
       "0    65657\n",
       "Name: Class, dtype: int64"
      ]
     },
     "execution_count": 67,
     "metadata": {},
     "output_type": "execute_result"
    }
   ],
   "source": [
    "y.value_counts()"
   ]
  },
  {
   "cell_type": "code",
   "execution_count": null,
   "metadata": {},
   "outputs": [],
   "source": []
  },
  {
   "cell_type": "code",
   "execution_count": null,
   "metadata": {},
   "outputs": [],
   "source": []
  },
  {
   "cell_type": "code",
   "execution_count": 68,
   "metadata": {
    "execution": {
     "iopub.execute_input": "2023-04-12T10:09:15.408934Z",
     "iopub.status.busy": "2023-04-12T10:09:15.407921Z",
     "iopub.status.idle": "2023-04-12T10:09:15.444531Z",
     "shell.execute_reply": "2023-04-12T10:09:15.443029Z",
     "shell.execute_reply.started": "2023-04-12T10:09:15.408894Z"
    }
   },
   "outputs": [],
   "source": [
    "le_AirportFrom=LabelEncoder()\n",
    "X['AirportFrom']=le_AirportFrom.fit_transform(X['AirportFrom'])"
   ]
  },
  {
   "cell_type": "code",
   "execution_count": 69,
   "metadata": {
    "execution": {
     "iopub.execute_input": "2023-04-12T10:09:15.658792Z",
     "iopub.status.busy": "2023-04-12T10:09:15.658391Z",
     "iopub.status.idle": "2023-04-12T10:09:15.685887Z",
     "shell.execute_reply": "2023-04-12T10:09:15.684767Z",
     "shell.execute_reply.started": "2023-04-12T10:09:15.658756Z"
    }
   },
   "outputs": [],
   "source": [
    "le_AirportTo=LabelEncoder()\n",
    "X['AirportTo']=le_AirportTo.fit_transform(X['AirportTo'])"
   ]
  },
  {
   "cell_type": "code",
   "execution_count": 73,
   "metadata": {
    "execution": {
     "iopub.execute_input": "2023-04-12T10:09:15.884166Z",
     "iopub.status.busy": "2023-04-12T10:09:15.883229Z",
     "iopub.status.idle": "2023-04-12T10:09:15.901851Z",
     "shell.execute_reply": "2023-04-12T10:09:15.900750Z",
     "shell.execute_reply.started": "2023-04-12T10:09:15.884117Z"
    }
   },
   "outputs": [],
   "source": [
    "X=StandardScaler().fit_transform(X)"
   ]
  },
  {
   "cell_type": "code",
   "execution_count": 74,
   "metadata": {
    "execution": {
     "iopub.execute_input": "2023-04-12T10:09:16.917885Z",
     "iopub.status.busy": "2023-04-12T10:09:16.917168Z",
     "iopub.status.idle": "2023-04-12T10:09:16.939972Z",
     "shell.execute_reply": "2023-04-12T10:09:16.938973Z",
     "shell.execute_reply.started": "2023-04-12T10:09:16.917845Z"
    }
   },
   "outputs": [],
   "source": [
    "Xtrain,Xtest,ytrain,ytest=train_test_split(X,y,test_size=0.3)"
   ]
  },
  {
   "cell_type": "code",
   "execution_count": 75,
   "metadata": {},
   "outputs": [],
   "source": [
    "from sklearn.model_selection import RandomizedSearchCV"
   ]
  },
  {
   "cell_type": "code",
   "execution_count": 76,
   "metadata": {
    "execution": {
     "iopub.execute_input": "2023-04-12T10:09:18.663112Z",
     "iopub.status.busy": "2023-04-12T10:09:18.662275Z",
     "iopub.status.idle": "2023-04-12T10:09:18.667862Z",
     "shell.execute_reply": "2023-04-12T10:09:18.666757Z",
     "shell.execute_reply.started": "2023-04-12T10:09:18.663065Z"
    }
   },
   "outputs": [],
   "source": [
    "model=xgb.XGBClassifier()"
   ]
  },
  {
   "cell_type": "code",
   "execution_count": 81,
   "metadata": {},
   "outputs": [],
   "source": [
    "param={\"n_estimators\":[50,100,150],\n",
    "    'max_depth':[2,3,4,5,6,7,8,9,10],\n",
    "      'max_leaves':[1,2,3,4,5,6]}"
   ]
  },
  {
   "cell_type": "code",
   "execution_count": 82,
   "metadata": {},
   "outputs": [],
   "source": [
    "rcv=RandomizedSearchCV(estimator=model,param_distributions=param,n_iter=10,scoring='accuracy')"
   ]
  },
  {
   "cell_type": "code",
   "execution_count": 83,
   "metadata": {
    "execution": {
     "iopub.execute_input": "2023-04-12T10:09:20.150052Z",
     "iopub.status.busy": "2023-04-12T10:09:20.149286Z"
    }
   },
   "outputs": [],
   "source": [
    "model=rcv.fit(Xtrain,ytrain)"
   ]
  },
  {
   "cell_type": "code",
   "execution_count": 84,
   "metadata": {},
   "outputs": [
    {
     "data": {
      "text/plain": [
       "{'n_estimators': 100, 'max_leaves': 4, 'max_depth': 8}"
      ]
     },
     "execution_count": 84,
     "metadata": {},
     "output_type": "execute_result"
    }
   ],
   "source": [
    "rcv.best_params_"
   ]
  },
  {
   "cell_type": "code",
   "execution_count": 85,
   "metadata": {},
   "outputs": [
    {
     "name": "stdout",
     "output_type": "stream",
     "text": [
      "Training Accuracy\n",
      "0.7740510667000293\n",
      "[[35345 10489]\n",
      " [10280 35805]]\n",
      "\n",
      "\n",
      "Testing Accuracy\n",
      "0.7143292295976646\n",
      "[[14063  5760]\n",
      " [ 5494 14078]]\n"
     ]
    }
   ],
   "source": [
    "from sklearn.metrics import accuracy_score,confusion_matrix\n",
    "\n",
    "ypred=model.predict(Xtest)\n",
    "\n",
    "Xpred=model.predict(Xtrain)\n",
    "\n",
    "print('Training Accuracy')\n",
    "print(accuracy_score(ytrain,Xpred))\n",
    "print(confusion_matrix(ytrain,Xpred))\n",
    "\n",
    "print('\\n')\n",
    "\n",
    "print('Testing Accuracy')\n",
    "print(accuracy_score(ytest,ypred))\n",
    "print(confusion_matrix(ytest,ypred))"
   ]
  },
  {
   "cell_type": "code",
   "execution_count": null,
   "metadata": {},
   "outputs": [],
   "source": []
  },
  {
   "cell_type": "code",
   "execution_count": null,
   "metadata": {},
   "outputs": [],
   "source": []
  },
  {
   "cell_type": "code",
   "execution_count": null,
   "metadata": {},
   "outputs": [],
   "source": []
  }
 ],
 "metadata": {
  "kernelspec": {
   "display_name": "Python 3 (ipykernel)",
   "language": "python",
   "name": "python3"
  },
  "language_info": {
   "codemirror_mode": {
    "name": "ipython",
    "version": 3
   },
   "file_extension": ".py",
   "mimetype": "text/x-python",
   "name": "python",
   "nbconvert_exporter": "python",
   "pygments_lexer": "ipython3",
   "version": "3.9.12"
  }
 },
 "nbformat": 4,
 "nbformat_minor": 4
}
